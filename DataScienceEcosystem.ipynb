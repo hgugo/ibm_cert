{
 "cells": [
  {
   "cell_type": "markdown",
   "id": "9739b8a8",
   "metadata": {},
   "source": [
    "# Data Science Tools and Ecosystem"
   ]
  },
  {
   "cell_type": "markdown",
   "id": "4a2b4bf6",
   "metadata": {},
   "source": [
    "## Author\n",
    "Humberto Guadarrama"
   ]
  },
  {
   "cell_type": "markdown",
   "id": "a2a16763",
   "metadata": {},
   "source": [
    "In this notebook, Data Science Tools and Ecosystem are summarized."
   ]
  },
  {
   "cell_type": "markdown",
   "id": "f9b40b80",
   "metadata": {},
   "source": [
    "**Objectives:**\n",
    "+ Popular languages.\n",
    "+ Libraries used by data scientists.\n",
    "+ Data science tools."
   ]
  },
  {
   "cell_type": "markdown",
   "id": "661ae392",
   "metadata": {},
   "source": [
    "Some of the popular languages that Data Scientists use are:\n",
    "\n",
    "1. Python.\n",
    "2. R.\n",
    "3. Julia."
   ]
  },
  {
   "cell_type": "markdown",
   "id": "1b43defc",
   "metadata": {},
   "source": [
    "Some of the commonly used libraries used by Data Scientists include:\n",
    "\n",
    "1. Scikit-Learn.\n",
    "2. TensorFlow\n",
    "3. Spark."
   ]
  },
  {
   "cell_type": "markdown",
   "id": "80462fca",
   "metadata": {},
   "source": [
    "|Data Science Tools|\n",
    "---------------------------\n",
    "|Data management|\n",
    "|Data integration and transformation|\n",
    "|Data transformation|\n",
    "|Data visualization|\n",
    "|Model building|\n",
    "|Model development|"
   ]
  },
  {
   "cell_type": "markdown",
   "id": "c9918c2f",
   "metadata": {},
   "source": [
    "### Below are a few examples of evaluating arithmetic expressions in Python"
   ]
  },
  {
   "cell_type": "code",
   "execution_count": 4,
   "id": "b4accbc7",
   "metadata": {},
   "outputs": [
    {
     "data": {
      "text/plain": [
       "17"
      ]
     },
     "execution_count": 4,
     "metadata": {},
     "output_type": "execute_result"
    }
   ],
   "source": [
    "# This a simple arithmetic expression to mutiply then add integers\n",
    "(3*4)+5"
   ]
  },
  {
   "cell_type": "code",
   "execution_count": 5,
   "id": "7079533e",
   "metadata": {},
   "outputs": [
    {
     "data": {
      "text/plain": [
       "3.3333333333333335"
      ]
     },
     "execution_count": 5,
     "metadata": {},
     "output_type": "execute_result"
    }
   ],
   "source": [
    "# This will convert 200 minutes to hours by diving by 60.\n",
    "200 / 60"
   ]
  }
 ],
 "metadata": {
  "kernelspec": {
   "display_name": "Python 3 (ipykernel)",
   "language": "python",
   "name": "python3"
  },
  "language_info": {
   "codemirror_mode": {
    "name": "ipython",
    "version": 3
   },
   "file_extension": ".py",
   "mimetype": "text/x-python",
   "name": "python",
   "nbconvert_exporter": "python",
   "pygments_lexer": "ipython3",
   "version": "3.9.13"
  }
 },
 "nbformat": 4,
 "nbformat_minor": 5
}
